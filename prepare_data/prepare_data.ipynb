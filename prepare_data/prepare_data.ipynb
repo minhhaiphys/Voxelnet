{
 "cells": [
  {
   "cell_type": "markdown",
   "metadata": {},
   "source": [
    "# Prepare data for VoxelNet\n",
    "\n",
    "Copy a subset of data into a designated folder for training and testing."
   ]
  },
  {
   "cell_type": "code",
   "execution_count": 2,
   "metadata": {},
   "outputs": [],
   "source": [
    "import os, shutil\n",
    "import numpy as np\n",
    "import crop"
   ]
  },
  {
   "cell_type": "code",
   "execution_count": 9,
   "metadata": {},
   "outputs": [],
   "source": [
    "src_dir = \"../../voxelnet/KITTI/training\"\n",
    "des_dir = \"../DATA_DIR\""
   ]
  },
  {
   "cell_type": "code",
   "execution_count": 10,
   "metadata": {},
   "outputs": [],
   "source": [
    "img_dir = \"image_2\"\n",
    "lidar_dir = \"velodyne\"\n",
    "label_dir = \"label_2\"\n",
    "calib_dir = \"calib\"\n",
    "\n",
    "all_subdirs = [img_dir,lidar_dir,label_dir,calib_dir]\n",
    "all_exts = [\".png\",\".bin\",\".txt\",\".txt\"]"
   ]
  },
  {
   "cell_type": "code",
   "execution_count": 11,
   "metadata": {},
   "outputs": [],
   "source": [
    "# Create new directories in the destination folder\n",
    "for middir in [\"training\",\"validation\"]:\n",
    "    new_dir = os.path.join(des_dir,middir)\n",
    "    if not os.path.isdir(new_dir):\n",
    "        os.mkdir(new_dir)\n",
    "    # Same for sub folders\n",
    "    for subdir in all_subdirs:\n",
    "        new_dir = os.path.join(des_dir,middir,subdir)\n",
    "        if not os.path.isdir(new_dir):\n",
    "            os.mkdir(new_dir)"
   ]
  },
  {
   "cell_type": "code",
   "execution_count": 12,
   "metadata": {},
   "outputs": [],
   "source": [
    "def get_all_fnames(loc):\n",
    "    \"\"\" Get all filenames in a folder without extensions \"\"\"\n",
    "    items = []\n",
    "    for item in os.scandir(loc):\n",
    "        if item.is_file():\n",
    "            items.append(os.path.splitext(item.name)[0])\n",
    "    return items"
   ]
  },
  {
   "cell_type": "code",
   "execution_count": 13,
   "metadata": {},
   "outputs": [],
   "source": [
    "all_fnames_img = get_all_fnames(os.path.join(src_dir,img_dir))\n",
    "all_fnames_lidar = get_all_fnames(os.path.join(src_dir,lidar_dir))\n",
    "all_fnames_label = get_all_fnames(os.path.join(src_dir,label_dir))\n",
    "all_fnames_calib = get_all_fnames(os.path.join(src_dir,calib_dir))"
   ]
  },
  {
   "cell_type": "code",
   "execution_count": 14,
   "metadata": {},
   "outputs": [
    {
     "name": "stdout",
     "output_type": "stream",
     "text": [
      "True\n",
      "True\n",
      "True\n"
     ]
    }
   ],
   "source": [
    "# Check if inconsistency in files\n",
    "print(set(all_fnames_img) == set(all_fnames_lidar))\n",
    "print(set(all_fnames_img) == set(all_fnames_label))\n",
    "print(set(all_fnames_img) == set(all_fnames_calib))"
   ]
  },
  {
   "cell_type": "code",
   "execution_count": 15,
   "metadata": {},
   "outputs": [],
   "source": [
    "def random_sampling(dataset, num_train,  num_test):\n",
    "    \"\"\" Randomly pick training and testing data from the dataset \"\"\"\n",
    "    dataset = np.array(dataset)\n",
    "    N = len(dataset)\n",
    "    if N < num_train+num_test:\n",
    "        raise ValueError(\"Cannot select non-overlapping train and test sets.\")\n",
    "    shuffle = np.random.permutation(N)\n",
    "    train_set = dataset[shuffle[:num_train]]\n",
    "    test_set = dataset[shuffle[num_train:num_train+num_test]]\n",
    "    return train_set, test_set"
   ]
  },
  {
   "cell_type": "code",
   "execution_count": 16,
   "metadata": {},
   "outputs": [],
   "source": [
    "def copy_files(middir, fnames):\n",
    "    \"\"\" Copy files from source to destination folder\n",
    "    \n",
    "    mid_dir: either \"training\" or \"validation\"\n",
    "    fnames: file names without extension\n",
    "    \"\"\"\n",
    "    for subdir, ext in zip(all_subdirs, all_exts):\n",
    "        for fname in fnames:\n",
    "            src = os.path.join(src_dir,subdir,fname+ext)\n",
    "            des = os.path.join(des_dir,middir,subdir,fname+ext)\n",
    "            shutil.copyfile(src,des)"
   ]
  },
  {
   "cell_type": "markdown",
   "metadata": {},
   "source": [
    "### Execution"
   ]
  },
  {
   "cell_type": "code",
   "execution_count": 17,
   "metadata": {},
   "outputs": [
    {
     "name": "stdout",
     "output_type": "stream",
     "text": [
      "['000158' '001489' '001588' '004256' '006317' '004702' '007100' '002468'\n",
      " '006042' '001889']\n",
      "['003623' '007084' '000208' '000927' '006850']\n"
     ]
    }
   ],
   "source": [
    "all_fnames = all_fnames_img\n",
    "train, test = random_sampling(all_fnames, 10, 5)\n",
    "print(train)\n",
    "print(test)\n",
    "copy_files(\"training\", train)\n",
    "copy_files(\"validation\", test)"
   ]
  },
  {
   "cell_type": "code",
   "execution_count": 18,
   "metadata": {},
   "outputs": [],
   "source": [
    "def crop_files(middir, fnames):\n",
    "    \"\"\" Crop images\n",
    "    \n",
    "    mid_dir: either \"training\" or \"validation\"\n",
    "    fnames: file names without extension\n",
    "    \"\"\"\n",
    "    for fname in fnames:\n",
    "        fname_img = os.path.join(des_dir,middir,img_dir,fname+\".png\")\n",
    "        fname_lidar = os.path.join(des_dir,middir,lidar_dir,fname+\".bin\")\n",
    "        fname_calib = os.path.join(des_dir,middir,calib_dir,fname+\".txt\")\n",
    "        points = crop.align_img_and_pc(fname_img, fname_lidar, fname_calib)\n",
    "    \n",
    "        output_name = os.path.join(des_dir,middir,lidar_dir,fname+\".bin\")\n",
    "        points[:,:4].astype('float32').tofile(output_name)        "
   ]
  },
  {
   "cell_type": "code",
   "execution_count": 19,
   "metadata": {},
   "outputs": [],
   "source": [
    "crop_files(\"training\",train)"
   ]
  },
  {
   "cell_type": "code",
   "execution_count": 20,
   "metadata": {},
   "outputs": [],
   "source": [
    "crop_files(\"validation\",test)"
   ]
  },
  {
   "cell_type": "code",
   "execution_count": null,
   "metadata": {},
   "outputs": [],
   "source": []
  }
 ],
 "metadata": {
  "kernelspec": {
   "display_name": "Python 3",
   "language": "python",
   "name": "python3"
  },
  "language_info": {
   "codemirror_mode": {
    "name": "ipython",
    "version": 3
   },
   "file_extension": ".py",
   "mimetype": "text/x-python",
   "name": "python",
   "nbconvert_exporter": "python",
   "pygments_lexer": "ipython3",
   "version": "3.7.4"
  }
 },
 "nbformat": 4,
 "nbformat_minor": 5
}
